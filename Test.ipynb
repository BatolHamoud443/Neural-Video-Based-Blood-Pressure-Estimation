{
 "cells": [
  {
   "cell_type": "code",
   "execution_count": 9,
   "metadata": {
    "executionInfo": {
     "elapsed": 4,
     "status": "ok",
     "timestamp": 1680776557605,
     "user": {
      "displayName": "Batoul Hamoud",
      "userId": "08478652763436780683"
     },
     "user_tz": -180
    },
    "id": "p15f9nCGLukz"
   },
   "outputs": [],
   "source": [
    "#importing libraries\n",
    "import pandas as pd\n",
    "import numpy as np\n",
    "import os\n",
    "from pathlib import Path\n",
    "import os.path\n",
    "import glob\n",
    "from sklearn.metrics import mean_absolute_error as mae\n",
    "from statistics import mean"
   ]
  },
  {
   "cell_type": "code",
   "execution_count": 3,
   "metadata": {
    "colab": {
     "base_uri": "https://localhost:8080/"
    },
    "executionInfo": {
     "elapsed": 28699,
     "status": "ok",
     "timestamp": 1680775355730,
     "user": {
      "displayName": "Batoul Hamoud",
      "userId": "08478652763436780683"
     },
     "user_tz": -180
    },
    "id": "8HxpPfkCL1h8",
    "outputId": "e812e963-7657-4df2-9874-bf88173dd372"
   },
   "outputs": [
    {
     "name": "stdout",
     "output_type": "stream",
     "text": [
      "Mounted at /content/gdrive\n"
     ]
    }
   ],
   "source": [
    "#Mounting the drive\n",
    "from google.colab import drive\n",
    "drive.mount('/content/gdrive')"
   ]
  },
  {
   "cell_type": "code",
   "execution_count": 4,
   "metadata": {
    "executionInfo": {
     "elapsed": 973,
     "status": "ok",
     "timestamp": 1680775359689,
     "user": {
      "displayName": "Batoul Hamoud",
      "userId": "08478652763436780683"
     },
     "user_tz": -180
    },
    "id": "MHbwZKXML92X"
   },
   "outputs": [],
   "source": [
    "#path to the testing files\n",
    "files_seq = []\n",
    "testing_folder ='/content/gdrive/MyDrive/Dias/'\n",
    "for root, subdirs, files in os.walk(testing_folder):\n",
    "    for d in files:\n",
    "      files_seq.append(str(d[:-4]))"
   ]
  },
  {
   "cell_type": "code",
   "execution_count": 21,
   "metadata": {
    "executionInfo": {
     "elapsed": 909,
     "status": "ok",
     "timestamp": 1680776781401,
     "user": {
      "displayName": "Batoul Hamoud",
      "userId": "08478652763436780683"
     },
     "user_tz": -180
    },
    "id": "ZFYMhFC7BYMt"
   },
   "outputs": [],
   "source": [
    "#function to get the MAE\n",
    "def testing (bp,id_model):\n",
    "  sys_7 = []\n",
    "  pred = []\n",
    "  testing_folder =\"/content/gdrive/MyDrive/\"+str(bp)+\n",
    "  model_path = \"/content/gdrive/MyDrive/Output/\"+str(id_model)\n",
    "  for i in range(len(files_seq)):\n",
    "    path = testing_folder + '/' + files_seq[i]+'.csv'\n",
    "    path_2 = model_path + '/' + files_seq[i]+'.csv'\n",
    "    df = pd.read_csv(path)\n",
    "    df2 = pd.read_csv(path_2)\n",
    "    sys = np.array(df)\n",
    "    p = np.array(df2)\n",
    "    m = len(p) if len(p)<len(sys) else len(sys)\n",
    "    for i in range(m-7):\n",
    "      sys_7.append(np.mean(sys[i:i+7]))\n",
    "\n",
    "    for i in range(m-7):\n",
    "      pred.append(np.mean(p[i:i+7]))\n",
    "  sys_7 = np.array(sys_7).reshape(-1,1)\n",
    "  pred = np.array(pred).reshape(-1,1)\n",
    "  n = mae(sys_7, pred)\n",
    "  print('The MAE is '+str(n))\n",
    "  return sys_7, pred\n",
    "\n",
    "#function to anaylise the results\n",
    "def percentages (pred, sys_7):\n",
    "  m = pred - sys_7\n",
    "  acc = []\n",
    "  val = [5,10,15] \n",
    "  for k in val:\n",
    "    j = 0\n",
    "    for i in range(len(m)):\n",
    "      if m[i]<k and m[i]>-k:\n",
    "        j +=1\n",
    "    print('The results are below ' +str(k)+' with percenatge of '+str(float(100*j/len(m)))+'%')\n",
    "  for i in range(len(pred)):\n",
    "    acc.append(1-(np.abs(pred[i][0]-sys_7[i][0]))/sys_7[i][0])\n",
    "  print('The mean accuracy is '+str(100*mean(acc))+'%')\n",
    "\n"
   ]
  },
  {
   "cell_type": "markdown",
   "metadata": {},
   "source": [
    "# Testing SBP Models"
   ]
  },
  {
   "cell_type": "code",
   "execution_count": 22,
   "metadata": {
    "colab": {
     "base_uri": "https://localhost:8080/"
    },
    "executionInfo": {
     "elapsed": 546,
     "status": "ok",
     "timestamp": 1680776784606,
     "user": {
      "displayName": "Batoul Hamoud",
      "userId": "08478652763436780683"
     },
     "user_tz": -180
    },
    "id": "C7ZG_09fEmxV",
    "outputId": "b9125d31-493b-4918-a89e-ad92639a20a0"
   },
   "outputs": [
    {
     "name": "stdout",
     "output_type": "stream",
     "text": [
      "The MAE is 8.298984795773798\n",
      "The results are below 5 with percenatge of 29.195205479452056%\n",
      "The results are below 10 with percenatge of 67.20890410958904%\n",
      "The results are below 15 with percenatge of 90.58219178082192%\n",
      "The mean accuracy is 92.76253702745237%\n"
     ]
    }
   ],
   "source": [
    "sys_7, pred = testing ('Sys','comb_1_sys')\n",
    "percentages (pred, sys_7)"
   ]
  },
  {
   "cell_type": "code",
   "execution_count": 23,
   "metadata": {
    "colab": {
     "base_uri": "https://localhost:8080/"
    },
    "executionInfo": {
     "elapsed": 12380,
     "status": "ok",
     "timestamp": 1680776811747,
     "user": {
      "displayName": "Batoul Hamoud",
      "userId": "08478652763436780683"
     },
     "user_tz": -180
    },
    "id": "Nq5gq60aGowP",
    "outputId": "79e0c3fa-5fe1-4128-e16d-bfa024395a79"
   },
   "outputs": [
    {
     "name": "stdout",
     "output_type": "stream",
     "text": [
      "The MAE is 7.498615590228772\n",
      "The results are below 5 with percenatge of 37.842465753424655%\n",
      "The results are below 10 with percenatge of 72.6027397260274%\n",
      "The results are below 15 with percenatge of 91.43835616438356%\n",
      "The mean accuracy is 93.42687464280638%\n"
     ]
    }
   ],
   "source": [
    "sys_7, pred = testing ('Sys','comb_2_sys')\n",
    "percentages (pred, sys_7)"
   ]
  },
  {
   "cell_type": "code",
   "execution_count": 24,
   "metadata": {
    "colab": {
     "base_uri": "https://localhost:8080/"
    },
    "executionInfo": {
     "elapsed": 17224,
     "status": "ok",
     "timestamp": 1680776846761,
     "user": {
      "displayName": "Batoul Hamoud",
      "userId": "08478652763436780683"
     },
     "user_tz": -180
    },
    "id": "9Lqi3rJGGvgh",
    "outputId": "42b92632-7c2f-4340-f068-52e593323d71"
   },
   "outputs": [
    {
     "name": "stdout",
     "output_type": "stream",
     "text": [
      "The MAE is 8.826724729426733\n",
      "The results are below 5 with percenatge of 33.81849315068493%\n",
      "The results are below 10 with percenatge of 61.72945205479452%\n",
      "The results are below 15 with percenatge of 81.42123287671232%\n",
      "The mean accuracy is 92.17152373026404%\n"
     ]
    }
   ],
   "source": [
    "sys_7, pred = testing ('Sys','model_1_sys')\n",
    "percentages (pred, sys_7)"
   ]
  },
  {
   "cell_type": "code",
   "execution_count": 25,
   "metadata": {
    "colab": {
     "base_uri": "https://localhost:8080/"
    },
    "executionInfo": {
     "elapsed": 14507,
     "status": "ok",
     "timestamp": 1680776875515,
     "user": {
      "displayName": "Batoul Hamoud",
      "userId": "08478652763436780683"
     },
     "user_tz": -180
    },
    "id": "_c9QNOMDG361",
    "outputId": "3ebaef28-aa70-44cf-9ec7-aade8c9d1693"
   },
   "outputs": [
    {
     "name": "stdout",
     "output_type": "stream",
     "text": [
      "The MAE is 10.05539206619636\n",
      "The results are below 5 with percenatge of 31.59246575342466%\n",
      "The results are below 10 with percenatge of 60.273972602739725%\n",
      "The results are below 15 with percenatge of 80.0513698630137%\n",
      "The mean accuracy is 91.34858439080445%\n"
     ]
    }
   ],
   "source": [
    "sys_7, pred = testing ('Sys','model_2_sys')\n",
    "percentages (pred, sys_7)"
   ]
  },
  {
   "cell_type": "code",
   "execution_count": 26,
   "metadata": {
    "colab": {
     "base_uri": "https://localhost:8080/"
    },
    "executionInfo": {
     "elapsed": 12035,
     "status": "ok",
     "timestamp": 1680776898076,
     "user": {
      "displayName": "Batoul Hamoud",
      "userId": "08478652763436780683"
     },
     "user_tz": -180
    },
    "id": "k40nUE_6G94T",
    "outputId": "4bf89d5d-ca97-410f-bbeb-19299fa5f175"
   },
   "outputs": [
    {
     "name": "stdout",
     "output_type": "stream",
     "text": [
      "The MAE is 7.8001658822494475\n",
      "The results are below 5 with percenatge of 43.75%\n",
      "The results are below 10 with percenatge of 69.09246575342466%\n",
      "The results are below 15 with percenatge of 85.27397260273973%\n",
      "The mean accuracy is 93.26187565461412%\n"
     ]
    }
   ],
   "source": [
    "sys_7, pred = testing ('Sys','model_3_sys')\n",
    "percentages (pred, sys_7)"
   ]
  },
  {
   "cell_type": "markdown",
   "metadata": {},
   "source": [
    "# Testing DBP Models"
   ]
  },
  {
   "cell_type": "code",
   "execution_count": 27,
   "metadata": {
    "colab": {
     "base_uri": "https://localhost:8080/"
    },
    "executionInfo": {
     "elapsed": 23552,
     "status": "ok",
     "timestamp": 1680776937134,
     "user": {
      "displayName": "Batoul Hamoud",
      "userId": "08478652763436780683"
     },
     "user_tz": -180
    },
    "id": "1f6Ya8trNXhY",
    "outputId": "31f38ccf-d3de-4417-b7d5-183a7d6145eb"
   },
   "outputs": [
    {
     "name": "stdout",
     "output_type": "stream",
     "text": [
      "The MAE is 9.785319019588611\n",
      "The results are below 5 with percenatge of 25.59931506849315%\n",
      "The results are below 10 with percenatge of 52.6541095890411%\n",
      "The results are below 15 with percenatge of 79.10958904109589%\n",
      "The mean accuracy is 86.44697495302186%\n"
     ]
    }
   ],
   "source": [
    "sys_7, pred = testing ('Dias','comb_1_dias')\n",
    "percentages (pred, sys_7)"
   ]
  },
  {
   "cell_type": "code",
   "execution_count": 28,
   "metadata": {
    "colab": {
     "base_uri": "https://localhost:8080/"
    },
    "executionInfo": {
     "elapsed": 12049,
     "status": "ok",
     "timestamp": 1680776955146,
     "user": {
      "displayName": "Batoul Hamoud",
      "userId": "08478652763436780683"
     },
     "user_tz": -180
    },
    "id": "pUW1E_aDNcNZ",
    "outputId": "81ff1bfc-6eee-4924-b4e5-053538c4b5df"
   },
   "outputs": [
    {
     "name": "stdout",
     "output_type": "stream",
     "text": [
      "The MAE is 8.031377683736574\n",
      "The results are below 5 with percenatge of 40.49657534246575%\n",
      "The results are below 10 with percenatge of 66.43835616438356%\n",
      "The results are below 15 with percenatge of 83.73287671232876%\n",
      "The mean accuracy is 89.05029784250503%\n"
     ]
    }
   ],
   "source": [
    "sys_7, pred = testing ('Dias','comb_2_dias')\n",
    "percentages (pred, sys_7)"
   ]
  },
  {
   "cell_type": "code",
   "execution_count": 29,
   "metadata": {
    "colab": {
     "base_uri": "https://localhost:8080/"
    },
    "executionInfo": {
     "elapsed": 12368,
     "status": "ok",
     "timestamp": 1680776992942,
     "user": {
      "displayName": "Batoul Hamoud",
      "userId": "08478652763436780683"
     },
     "user_tz": -180
    },
    "id": "CWKSPoiB6Mko",
    "outputId": "6ee1ffa4-3757-455f-ddad-f3780979350b"
   },
   "outputs": [
    {
     "name": "stdout",
     "output_type": "stream",
     "text": [
      "The MAE is 10.54615476751085\n",
      "The results are below 5 with percenatge of 23.715753424657535%\n",
      "The results are below 10 with percenatge of 48.715753424657535%\n",
      "The results are below 15 with percenatge of 74.91438356164383%\n",
      "The mean accuracy is 85.31856591841024%\n"
     ]
    }
   ],
   "source": [
    "sys_7, pred = testing ('Dias','model_1_dias')\n",
    "percentages (pred, sys_7)"
   ]
  },
  {
   "cell_type": "code",
   "execution_count": 30,
   "metadata": {
    "colab": {
     "base_uri": "https://localhost:8080/"
    },
    "executionInfo": {
     "elapsed": 13249,
     "status": "ok",
     "timestamp": 1680777019761,
     "user": {
      "displayName": "Batoul Hamoud",
      "userId": "08478652763436780683"
     },
     "user_tz": -180
    },
    "id": "I5LwoMxQ6RYm",
    "outputId": "5ae798a7-e923-4c7f-f232-55446a2598f3"
   },
   "outputs": [
    {
     "name": "stdout",
     "output_type": "stream",
     "text": [
      "The MAE is 10.047362472514772\n",
      "The results are below 5 with percenatge of 27.311643835616437%\n",
      "The results are below 10 with percenatge of 52.99657534246575%\n",
      "The results are below 15 with percenatge of 76.36986301369863%\n",
      "The mean accuracy is 86.19567748240536%\n"
     ]
    }
   ],
   "source": [
    "sys_7, pred = testing ('Dias','model_2_dias')\n",
    "percentages (pred, sys_7)"
   ]
  },
  {
   "cell_type": "code",
   "execution_count": 31,
   "metadata": {
    "colab": {
     "base_uri": "https://localhost:8080/"
    },
    "executionInfo": {
     "elapsed": 12879,
     "status": "ok",
     "timestamp": 1680777043374,
     "user": {
      "displayName": "Batoul Hamoud",
      "userId": "08478652763436780683"
     },
     "user_tz": -180
    },
    "id": "ovTWl4kgwChH",
    "outputId": "8c7d17e2-5329-49ec-9b73-0eea09ebe01a"
   },
   "outputs": [
    {
     "name": "stdout",
     "output_type": "stream",
     "text": [
      "The MAE is 10.457786559161281\n",
      "The results are below 5 with percenatge of 26.455479452054796%\n",
      "The results are below 10 with percenatge of 51.88356164383562%\n",
      "The results are below 15 with percenatge of 76.11301369863014%\n",
      "The mean accuracy is 85.94640337324387%\n"
     ]
    }
   ],
   "source": [
    "sys_7, pred = testing ('Dias','model_3_dias')\n",
    "percentages (pred, sys_7)"
   ]
  }
 ],
 "metadata": {
  "colab": {
   "authorship_tag": "ABX9TyPoCYKnRtKfVMJw4AzuPYzZ",
   "provenance": []
  },
  "kernelspec": {
   "display_name": "Python 3 (ipykernel)",
   "language": "python",
   "name": "python3"
  },
  "language_info": {
   "codemirror_mode": {
    "name": "ipython",
    "version": 3
   },
   "file_extension": ".py",
   "mimetype": "text/x-python",
   "name": "python",
   "nbconvert_exporter": "python",
   "pygments_lexer": "ipython3",
   "version": "3.8.10"
  }
 },
 "nbformat": 4,
 "nbformat_minor": 1
}
